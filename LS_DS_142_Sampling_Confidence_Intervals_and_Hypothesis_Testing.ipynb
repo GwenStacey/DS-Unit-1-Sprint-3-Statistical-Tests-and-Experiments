{
  "nbformat": 4,
  "nbformat_minor": 0,
  "metadata": {
    "colab": {
      "name": "Copy of LS_DS_142_Sampling_Confidence_Intervals_and_Hypothesis_Testing.ipynb",
      "version": "0.3.2",
      "provenance": [],
      "collapsed_sections": [],
      "include_colab_link": true
    },
    "kernelspec": {
      "name": "python3",
      "display_name": "Python 3"
    }
  },
  "cells": [
    {
      "cell_type": "markdown",
      "metadata": {
        "id": "view-in-github",
        "colab_type": "text"
      },
      "source": [
        "<a href=\"https://colab.research.google.com/github/GwenStacey/DS-Unit-1-Sprint-3-Statistical-Tests-and-Experiments/blob/master/LS_DS_142_Sampling_Confidence_Intervals_and_Hypothesis_Testing.ipynb\" target=\"_parent\"><img src=\"https://colab.research.google.com/assets/colab-badge.svg\" alt=\"Open In Colab\"/></a>"
      ]
    },
    {
      "cell_type": "markdown",
      "metadata": {
        "id": "838Dmw1kM2LK",
        "colab_type": "text"
      },
      "source": [
        "# Lambda School Data Science Module 142\n",
        "## Sampling, Confidence Intervals, and Hypothesis Testing"
      ]
    },
    {
      "cell_type": "markdown",
      "metadata": {
        "id": "dbcPKIo5M6Ny",
        "colab_type": "text"
      },
      "source": [
        "## Prepare - examine other available hypothesis tests\n",
        "\n",
        "If you had to pick a single hypothesis test in your toolbox, t-test would probably be the best choice - but the good news is you don't have to pick just one! Here's some of the others to be aware of:"
      ]
    },
    {
      "cell_type": "code",
      "metadata": {
        "id": "tlBel8j9M6tB",
        "colab_type": "code",
        "outputId": "5a1358ea-a4b5-44c7-d7f6-e2cd787c56e7",
        "colab": {
          "base_uri": "https://localhost:8080/",
          "height": 199
        }
      },
      "source": [
        "import numpy as np\n",
        "from scipy.stats import chisquare  # One-way chi square test\n",
        "\n",
        "# Chi square can take any crosstab/table and test the independence of rows/cols\n",
        "# The null hypothesis is that the rows/cols are independent -> low chi square\n",
        "# The alternative is that there is a dependence -> high chi square\n",
        "# Be aware! Chi square does *not* tell you direction/causation\n",
        "\n",
        "ind_obs = np.array([[1, 1], [2, 2]]).T\n",
        "print(ind_obs)\n",
        "print(chisquare(ind_obs, axis=None))\n",
        "\n",
        "dep_obs = np.array([[16, 18, 16, 14, 12, 12], [32, 24, 16, 28, 20, 24]]).T\n",
        "print(dep_obs)\n",
        "print(chisquare(dep_obs, axis=None))"
      ],
      "execution_count": 0,
      "outputs": [
        {
          "output_type": "stream",
          "text": [
            "[[1 2]\n",
            " [1 2]]\n",
            "Power_divergenceResult(statistic=0.6666666666666666, pvalue=0.8810148425137847)\n",
            "[[16 32]\n",
            " [18 24]\n",
            " [16 16]\n",
            " [14 28]\n",
            " [12 20]\n",
            " [12 24]]\n",
            "Power_divergenceResult(statistic=23.31034482758621, pvalue=0.015975692534127565)\n"
          ],
          "name": "stdout"
        }
      ]
    },
    {
      "cell_type": "code",
      "metadata": {
        "id": "nN0BdNiDPxbk",
        "colab_type": "code",
        "outputId": "1892a1cc-b17e-442b-f03e-619b516469dc",
        "colab": {
          "base_uri": "https://localhost:8080/",
          "height": 35
        }
      },
      "source": [
        "# Distribution tests:\n",
        "# We often assume that something is normal, but it can be important to *check*\n",
        "\n",
        "# For example, later on with predictive modeling, a typical assumption is that\n",
        "# residuals (prediction errors) are normal - checking is a good diagnostic\n",
        "\n",
        "from scipy.stats import normaltest\n",
        "# Poisson models arrival times and is related to the binomial (coinflip)\n",
        "sample = np.random.poisson(5, 1000)\n",
        "print(normaltest(sample))  # Pretty clearly not normal"
      ],
      "execution_count": 0,
      "outputs": [
        {
          "output_type": "stream",
          "text": [
            "NormaltestResult(statistic=47.26692244151441, pvalue=5.446508723322555e-11)\n"
          ],
          "name": "stdout"
        }
      ]
    },
    {
      "cell_type": "code",
      "metadata": {
        "id": "P5t0WhkDReFO",
        "colab_type": "code",
        "outputId": "1a8c1de6-bdbc-45a4-d707-3de14a013e43",
        "colab": {
          "base_uri": "https://localhost:8080/",
          "height": 54
        }
      },
      "source": [
        "# Kruskal-Wallis H-test - compare the median rank between 2+ groups\n",
        "# Can be applied to ranking decisions/outcomes/recommendations\n",
        "# The underlying math comes from chi-square distribution, and is best for n>5\n",
        "from scipy.stats import kruskal\n",
        "\n",
        "x1 = [1, 3, 5, 7, 9]\n",
        "y1 = [2, 4, 6, 8, 10]\n",
        "print(kruskal(x1, y1))  # x1 is a little better, but not \"significantly\" so\n",
        "\n",
        "x2 = [1, 1, 1]\n",
        "y2 = [2, 2, 2]\n",
        "z = [2, 2]  # Hey, a third group, and of different size!\n",
        "print(kruskal(x2, y2, z))  # x clearly dominates"
      ],
      "execution_count": 0,
      "outputs": [
        {
          "output_type": "stream",
          "text": [
            "KruskalResult(statistic=0.2727272727272734, pvalue=0.6015081344405895)\n",
            "KruskalResult(statistic=7.0, pvalue=0.0301973834223185)\n"
          ],
          "name": "stdout"
        }
      ]
    },
    {
      "cell_type": "markdown",
      "metadata": {
        "id": "7pT3IP36Rh0b",
        "colab_type": "text"
      },
      "source": [
        "And there's many more! `scipy.stats` is fairly comprehensive, though there are even more available if you delve into the extended world of statistics packages. As tests get increasingly obscure and specialized, the importance of knowing them by heart becomes small - but being able to look them up and figure them out when they *are* relevant is still important."
      ]
    },
    {
      "cell_type": "markdown",
      "metadata": {
        "id": "L1_KRuHCM7BW",
        "colab_type": "text"
      },
      "source": [
        "## Live Lecture - let's explore some more of scipy.stats\n",
        "\n",
        "Candidate topics to explore:\n",
        "\n",
        "- `scipy.stats.chi2` - the Chi-squared distribution, which we can use to reproduce the Chi-squared test\n",
        "- Calculate the Chi-Squared test statistic \"by hand\" (with code), and feed it into `chi2`\n",
        "- Build a confidence interval with `stats.t.ppf`, the t-distribution percentile point function (the inverse of the CDF) - we can write a function to return a tuple of `(mean, lower bound, upper bound)` that you can then use for the assignment (visualizing confidence intervals)"
      ]
    },
    {
      "cell_type": "code",
      "metadata": {
        "id": "JXBDiQhZ2-HU",
        "colab_type": "code",
        "colab": {}
      },
      "source": [
        "import pandas as pd"
      ],
      "execution_count": 0,
      "outputs": []
    },
    {
      "cell_type": "code",
      "metadata": {
        "id": "qW6k0dorM7Lz",
        "colab_type": "code",
        "outputId": "b3d14fde-eb2f-40c7-e2fd-70d661c08a00",
        "colab": {
          "base_uri": "https://localhost:8080/",
          "height": 198
        }
      },
      "source": [
        "# Taking requests! Come to lecture with a topic or problem and we'll try it.\n",
        "df = pd.read_csv('https://math.tntech.edu/e-stat/DASL/popularkids.txt', sep='\\t')\n",
        "df.head()"
      ],
      "execution_count": 0,
      "outputs": [
        {
          "output_type": "execute_result",
          "data": {
            "text/html": [
              "<div>\n",
              "<style scoped>\n",
              "    .dataframe tbody tr th:only-of-type {\n",
              "        vertical-align: middle;\n",
              "    }\n",
              "\n",
              "    .dataframe tbody tr th {\n",
              "        vertical-align: top;\n",
              "    }\n",
              "\n",
              "    .dataframe thead th {\n",
              "        text-align: right;\n",
              "    }\n",
              "</style>\n",
              "<table border=\"1\" class=\"dataframe\">\n",
              "  <thead>\n",
              "    <tr style=\"text-align: right;\">\n",
              "      <th></th>\n",
              "      <th>Gender</th>\n",
              "      <th>Grade</th>\n",
              "      <th>Age</th>\n",
              "      <th>Race</th>\n",
              "      <th>Urban.Rural</th>\n",
              "      <th>School</th>\n",
              "      <th>Goals</th>\n",
              "      <th>Grades</th>\n",
              "      <th>Sports</th>\n",
              "      <th>Looks</th>\n",
              "      <th>Money</th>\n",
              "    </tr>\n",
              "  </thead>\n",
              "  <tbody>\n",
              "    <tr>\n",
              "      <th>0</th>\n",
              "      <td>boy</td>\n",
              "      <td>5</td>\n",
              "      <td>11</td>\n",
              "      <td>White</td>\n",
              "      <td>Rural</td>\n",
              "      <td>Elm</td>\n",
              "      <td>Sports</td>\n",
              "      <td>1</td>\n",
              "      <td>2</td>\n",
              "      <td>4</td>\n",
              "      <td>3</td>\n",
              "    </tr>\n",
              "    <tr>\n",
              "      <th>1</th>\n",
              "      <td>boy</td>\n",
              "      <td>5</td>\n",
              "      <td>10</td>\n",
              "      <td>White</td>\n",
              "      <td>Rural</td>\n",
              "      <td>Elm</td>\n",
              "      <td>Popular</td>\n",
              "      <td>2</td>\n",
              "      <td>1</td>\n",
              "      <td>4</td>\n",
              "      <td>3</td>\n",
              "    </tr>\n",
              "    <tr>\n",
              "      <th>2</th>\n",
              "      <td>girl</td>\n",
              "      <td>5</td>\n",
              "      <td>11</td>\n",
              "      <td>White</td>\n",
              "      <td>Rural</td>\n",
              "      <td>Elm</td>\n",
              "      <td>Popular</td>\n",
              "      <td>4</td>\n",
              "      <td>3</td>\n",
              "      <td>1</td>\n",
              "      <td>2</td>\n",
              "    </tr>\n",
              "    <tr>\n",
              "      <th>3</th>\n",
              "      <td>girl</td>\n",
              "      <td>5</td>\n",
              "      <td>11</td>\n",
              "      <td>White</td>\n",
              "      <td>Rural</td>\n",
              "      <td>Elm</td>\n",
              "      <td>Popular</td>\n",
              "      <td>2</td>\n",
              "      <td>3</td>\n",
              "      <td>4</td>\n",
              "      <td>1</td>\n",
              "    </tr>\n",
              "    <tr>\n",
              "      <th>4</th>\n",
              "      <td>girl</td>\n",
              "      <td>5</td>\n",
              "      <td>10</td>\n",
              "      <td>White</td>\n",
              "      <td>Rural</td>\n",
              "      <td>Elm</td>\n",
              "      <td>Popular</td>\n",
              "      <td>4</td>\n",
              "      <td>2</td>\n",
              "      <td>1</td>\n",
              "      <td>3</td>\n",
              "    </tr>\n",
              "  </tbody>\n",
              "</table>\n",
              "</div>"
            ],
            "text/plain": [
              "  Gender  Grade  Age   Race Urban.Rural  ...    Goals Grades  Sports  Looks  Money\n",
              "0    boy      5   11  White       Rural  ...   Sports      1       2      4      3\n",
              "1    boy      5   10  White       Rural  ...  Popular      2       1      4      3\n",
              "2   girl      5   11  White       Rural  ...  Popular      4       3      1      2\n",
              "3   girl      5   11  White       Rural  ...  Popular      2       3      4      1\n",
              "4   girl      5   10  White       Rural  ...  Popular      4       2      1      3\n",
              "\n",
              "[5 rows x 11 columns]"
            ]
          },
          "metadata": {
            "tags": []
          },
          "execution_count": 8
        }
      ]
    },
    {
      "cell_type": "code",
      "metadata": {
        "id": "EtogksCr3BoN",
        "colab_type": "code",
        "outputId": "63bd1f2e-17fc-4216-c4c0-e945b94cfab4",
        "colab": {
          "base_uri": "https://localhost:8080/",
          "height": 235
        }
      },
      "source": [
        "df.isnull().sum()"
      ],
      "execution_count": 0,
      "outputs": [
        {
          "output_type": "execute_result",
          "data": {
            "text/plain": [
              "Gender         0\n",
              "Grade          0\n",
              "Age            0\n",
              "Race           0\n",
              "Urban.Rural    0\n",
              "School         0\n",
              "Goals          0\n",
              "Grades         0\n",
              "Sports         0\n",
              "Looks          0\n",
              "Money          0\n",
              "dtype: int64"
            ]
          },
          "metadata": {
            "tags": []
          },
          "execution_count": 9
        }
      ]
    },
    {
      "cell_type": "code",
      "metadata": {
        "id": "blP4McZT3IsH",
        "colab_type": "code",
        "outputId": "28e5c056-fadf-4ed2-f9d7-cf01c5f87985",
        "colab": {
          "base_uri": "https://localhost:8080/",
          "height": 168
        }
      },
      "source": [
        "table_observed = pd.crosstab(df['Goals'],df['Grade'])\n",
        "table_observed"
      ],
      "execution_count": 0,
      "outputs": [
        {
          "output_type": "execute_result",
          "data": {
            "text/html": [
              "<div>\n",
              "<style scoped>\n",
              "    .dataframe tbody tr th:only-of-type {\n",
              "        vertical-align: middle;\n",
              "    }\n",
              "\n",
              "    .dataframe tbody tr th {\n",
              "        vertical-align: top;\n",
              "    }\n",
              "\n",
              "    .dataframe thead th {\n",
              "        text-align: right;\n",
              "    }\n",
              "</style>\n",
              "<table border=\"1\" class=\"dataframe\">\n",
              "  <thead>\n",
              "    <tr style=\"text-align: right;\">\n",
              "      <th>Grade</th>\n",
              "      <th>4</th>\n",
              "      <th>5</th>\n",
              "      <th>6</th>\n",
              "    </tr>\n",
              "    <tr>\n",
              "      <th>Goals</th>\n",
              "      <th></th>\n",
              "      <th></th>\n",
              "      <th></th>\n",
              "    </tr>\n",
              "  </thead>\n",
              "  <tbody>\n",
              "    <tr>\n",
              "      <th>Grades</th>\n",
              "      <td>63</td>\n",
              "      <td>88</td>\n",
              "      <td>96</td>\n",
              "    </tr>\n",
              "    <tr>\n",
              "      <th>Popular</th>\n",
              "      <td>31</td>\n",
              "      <td>55</td>\n",
              "      <td>55</td>\n",
              "    </tr>\n",
              "    <tr>\n",
              "      <th>Sports</th>\n",
              "      <td>25</td>\n",
              "      <td>33</td>\n",
              "      <td>32</td>\n",
              "    </tr>\n",
              "  </tbody>\n",
              "</table>\n",
              "</div>"
            ],
            "text/plain": [
              "Grade     4   5   6\n",
              "Goals              \n",
              "Grades   63  88  96\n",
              "Popular  31  55  55\n",
              "Sports   25  33  32"
            ]
          },
          "metadata": {
            "tags": []
          },
          "execution_count": 10
        }
      ]
    },
    {
      "cell_type": "code",
      "metadata": {
        "id": "uiVEQOmb3TQf",
        "colab_type": "code",
        "outputId": "cc6799a7-0425-4437-ceab-809462f33f5e",
        "colab": {
          "base_uri": "https://localhost:8080/",
          "height": 198
        }
      },
      "source": [
        "observed_w_margins = pd.crosstab(df['Goals'],df['Grade'], margins = True)\n",
        "observed_w_margins"
      ],
      "execution_count": 0,
      "outputs": [
        {
          "output_type": "execute_result",
          "data": {
            "text/html": [
              "<div>\n",
              "<style scoped>\n",
              "    .dataframe tbody tr th:only-of-type {\n",
              "        vertical-align: middle;\n",
              "    }\n",
              "\n",
              "    .dataframe tbody tr th {\n",
              "        vertical-align: top;\n",
              "    }\n",
              "\n",
              "    .dataframe thead th {\n",
              "        text-align: right;\n",
              "    }\n",
              "</style>\n",
              "<table border=\"1\" class=\"dataframe\">\n",
              "  <thead>\n",
              "    <tr style=\"text-align: right;\">\n",
              "      <th>Grade</th>\n",
              "      <th>4</th>\n",
              "      <th>5</th>\n",
              "      <th>6</th>\n",
              "      <th>All</th>\n",
              "    </tr>\n",
              "    <tr>\n",
              "      <th>Goals</th>\n",
              "      <th></th>\n",
              "      <th></th>\n",
              "      <th></th>\n",
              "      <th></th>\n",
              "    </tr>\n",
              "  </thead>\n",
              "  <tbody>\n",
              "    <tr>\n",
              "      <th>Grades</th>\n",
              "      <td>63</td>\n",
              "      <td>88</td>\n",
              "      <td>96</td>\n",
              "      <td>247</td>\n",
              "    </tr>\n",
              "    <tr>\n",
              "      <th>Popular</th>\n",
              "      <td>31</td>\n",
              "      <td>55</td>\n",
              "      <td>55</td>\n",
              "      <td>141</td>\n",
              "    </tr>\n",
              "    <tr>\n",
              "      <th>Sports</th>\n",
              "      <td>25</td>\n",
              "      <td>33</td>\n",
              "      <td>32</td>\n",
              "      <td>90</td>\n",
              "    </tr>\n",
              "    <tr>\n",
              "      <th>All</th>\n",
              "      <td>119</td>\n",
              "      <td>176</td>\n",
              "      <td>183</td>\n",
              "      <td>478</td>\n",
              "    </tr>\n",
              "  </tbody>\n",
              "</table>\n",
              "</div>"
            ],
            "text/plain": [
              "Grade      4    5    6  All\n",
              "Goals                      \n",
              "Grades    63   88   96  247\n",
              "Popular   31   55   55  141\n",
              "Sports    25   33   32   90\n",
              "All      119  176  183  478"
            ]
          },
          "metadata": {
            "tags": []
          },
          "execution_count": 11
        }
      ]
    },
    {
      "cell_type": "code",
      "metadata": {
        "id": "YI8KYyBH3flA",
        "colab_type": "code",
        "outputId": "12e3e8ad-2671-4be1-a0ec-003cf8759ecf",
        "colab": {
          "base_uri": "https://localhost:8080/",
          "height": 126
        }
      },
      "source": [
        "observed_w_margins['All']"
      ],
      "execution_count": 0,
      "outputs": [
        {
          "output_type": "execute_result",
          "data": {
            "text/plain": [
              "Goals\n",
              "Grades     247\n",
              "Popular    141\n",
              "Sports      90\n",
              "All        478\n",
              "Name: All, dtype: int64"
            ]
          },
          "metadata": {
            "tags": []
          },
          "execution_count": 12
        }
      ]
    },
    {
      "cell_type": "code",
      "metadata": {
        "id": "uWSJ83C_3fi0",
        "colab_type": "code",
        "outputId": "2ee6ea50-7d8d-4021-93a2-169f93b91ba5",
        "colab": {
          "base_uri": "https://localhost:8080/",
          "height": 126
        }
      },
      "source": [
        "observed_w_margins.T['All']"
      ],
      "execution_count": 0,
      "outputs": [
        {
          "output_type": "execute_result",
          "data": {
            "text/plain": [
              "Grade\n",
              "4      119\n",
              "5      176\n",
              "6      183\n",
              "All    478\n",
              "Name: All, dtype: int64"
            ]
          },
          "metadata": {
            "tags": []
          },
          "execution_count": 13
        }
      ]
    },
    {
      "cell_type": "code",
      "metadata": {
        "id": "JVQ5QSJe3fgc",
        "colab_type": "code",
        "outputId": "be3ca2b2-a981-4b4d-a7d2-caaca95ed2d2",
        "colab": {
          "base_uri": "https://localhost:8080/",
          "height": 72
        }
      },
      "source": [
        "#Lot going on here, simplifying it will make it easier to read\n",
        "np.outer(observed_w_margins['All'].values[:-1],observed_w_margins.T['All'].values[:-1]/observed_w_margins.T['All'].values[-1])"
      ],
      "execution_count": 0,
      "outputs": [
        {
          "output_type": "execute_result",
          "data": {
            "text/plain": [
              "array([[61.4916318 , 90.94560669, 94.56276151],\n",
              "       [35.10251046, 51.91631799, 53.98117155],\n",
              "       [22.40585774, 33.13807531, 34.45606695]])"
            ]
          },
          "metadata": {
            "tags": []
          },
          "execution_count": 16
        }
      ]
    },
    {
      "cell_type": "code",
      "metadata": {
        "id": "-9fChcA73fdv",
        "colab_type": "code",
        "outputId": "196912d7-51cd-4f98-9275-bf5123ae322b",
        "colab": {
          "base_uri": "https://localhost:8080/",
          "height": 35
        }
      },
      "source": [
        "#Assign the long indexing to variables\n",
        "goal_totals = observed_w_margins['All'].values[:-1]\n",
        "goal_totals"
      ],
      "execution_count": 0,
      "outputs": [
        {
          "output_type": "execute_result",
          "data": {
            "text/plain": [
              "array([247, 141,  90])"
            ]
          },
          "metadata": {
            "tags": []
          },
          "execution_count": 18
        }
      ]
    },
    {
      "cell_type": "code",
      "metadata": {
        "id": "AI_vZ0XN3fbL",
        "colab_type": "code",
        "outputId": "83aebb26-86dd-4ef1-9fdb-4d5d712737cc",
        "colab": {
          "base_uri": "https://localhost:8080/",
          "height": 35
        }
      },
      "source": [
        "grade_totals = observed_w_margins.T['All'].values[:-1]\n",
        "grade_totals"
      ],
      "execution_count": 0,
      "outputs": [
        {
          "output_type": "execute_result",
          "data": {
            "text/plain": [
              "array([119, 176, 183])"
            ]
          },
          "metadata": {
            "tags": []
          },
          "execution_count": 19
        }
      ]
    },
    {
      "cell_type": "code",
      "metadata": {
        "id": "fR34oQ9z3fYY",
        "colab_type": "code",
        "outputId": "433960e0-609c-4106-b1ca-efb0b87d1360",
        "colab": {
          "base_uri": "https://localhost:8080/",
          "height": 72
        }
      },
      "source": [
        "expected = np.outer(goal_totals,grade_totals)/grade_totals.sum()\n",
        "expected"
      ],
      "execution_count": 0,
      "outputs": [
        {
          "output_type": "execute_result",
          "data": {
            "text/plain": [
              "array([[61.4916318 , 90.94560669, 94.56276151],\n",
              "       [35.10251046, 51.91631799, 53.98117155],\n",
              "       [22.40585774, 33.13807531, 34.45606695]])"
            ]
          },
          "metadata": {
            "tags": []
          },
          "execution_count": 22
        }
      ]
    },
    {
      "cell_type": "code",
      "metadata": {
        "id": "159m90JX42iL",
        "colab_type": "code",
        "outputId": "9ab993ca-6e97-419b-94cd-87f59447838d",
        "colab": {
          "base_uri": "https://localhost:8080/",
          "height": 168
        }
      },
      "source": [
        "table_expected = pd.DataFrame(expected)\n",
        "table_expected.columns = table_observed.columns\n",
        "table_expected.index = table_observed.index\n",
        "table_expected"
      ],
      "execution_count": 0,
      "outputs": [
        {
          "output_type": "execute_result",
          "data": {
            "text/html": [
              "<div>\n",
              "<style scoped>\n",
              "    .dataframe tbody tr th:only-of-type {\n",
              "        vertical-align: middle;\n",
              "    }\n",
              "\n",
              "    .dataframe tbody tr th {\n",
              "        vertical-align: top;\n",
              "    }\n",
              "\n",
              "    .dataframe thead th {\n",
              "        text-align: right;\n",
              "    }\n",
              "</style>\n",
              "<table border=\"1\" class=\"dataframe\">\n",
              "  <thead>\n",
              "    <tr style=\"text-align: right;\">\n",
              "      <th>Grade</th>\n",
              "      <th>4</th>\n",
              "      <th>5</th>\n",
              "      <th>6</th>\n",
              "    </tr>\n",
              "    <tr>\n",
              "      <th>Goals</th>\n",
              "      <th></th>\n",
              "      <th></th>\n",
              "      <th></th>\n",
              "    </tr>\n",
              "  </thead>\n",
              "  <tbody>\n",
              "    <tr>\n",
              "      <th>Grades</th>\n",
              "      <td>61.491632</td>\n",
              "      <td>90.945607</td>\n",
              "      <td>94.562762</td>\n",
              "    </tr>\n",
              "    <tr>\n",
              "      <th>Popular</th>\n",
              "      <td>35.102510</td>\n",
              "      <td>51.916318</td>\n",
              "      <td>53.981172</td>\n",
              "    </tr>\n",
              "    <tr>\n",
              "      <th>Sports</th>\n",
              "      <td>22.405858</td>\n",
              "      <td>33.138075</td>\n",
              "      <td>34.456067</td>\n",
              "    </tr>\n",
              "  </tbody>\n",
              "</table>\n",
              "</div>"
            ],
            "text/plain": [
              "Grade            4          5          6\n",
              "Goals                                   \n",
              "Grades   61.491632  90.945607  94.562762\n",
              "Popular  35.102510  51.916318  53.981172\n",
              "Sports   22.405858  33.138075  34.456067"
            ]
          },
          "metadata": {
            "tags": []
          },
          "execution_count": 21
        }
      ]
    },
    {
      "cell_type": "code",
      "metadata": {
        "id": "cV1CiZPW3fRg",
        "colab_type": "code",
        "outputId": "ba789f94-37b5-40c8-b795-862acb48f626",
        "colab": {
          "base_uri": "https://localhost:8080/",
          "height": 168
        }
      },
      "source": [
        "deviation = table_observed - table_expected\n",
        "deviation"
      ],
      "execution_count": 0,
      "outputs": [
        {
          "output_type": "execute_result",
          "data": {
            "text/html": [
              "<div>\n",
              "<style scoped>\n",
              "    .dataframe tbody tr th:only-of-type {\n",
              "        vertical-align: middle;\n",
              "    }\n",
              "\n",
              "    .dataframe tbody tr th {\n",
              "        vertical-align: top;\n",
              "    }\n",
              "\n",
              "    .dataframe thead th {\n",
              "        text-align: right;\n",
              "    }\n",
              "</style>\n",
              "<table border=\"1\" class=\"dataframe\">\n",
              "  <thead>\n",
              "    <tr style=\"text-align: right;\">\n",
              "      <th>Grade</th>\n",
              "      <th>4</th>\n",
              "      <th>5</th>\n",
              "      <th>6</th>\n",
              "    </tr>\n",
              "    <tr>\n",
              "      <th>Goals</th>\n",
              "      <th></th>\n",
              "      <th></th>\n",
              "      <th></th>\n",
              "    </tr>\n",
              "  </thead>\n",
              "  <tbody>\n",
              "    <tr>\n",
              "      <th>Grades</th>\n",
              "      <td>1.508368</td>\n",
              "      <td>-2.945607</td>\n",
              "      <td>1.437238</td>\n",
              "    </tr>\n",
              "    <tr>\n",
              "      <th>Popular</th>\n",
              "      <td>-4.102510</td>\n",
              "      <td>3.083682</td>\n",
              "      <td>1.018828</td>\n",
              "    </tr>\n",
              "    <tr>\n",
              "      <th>Sports</th>\n",
              "      <td>2.594142</td>\n",
              "      <td>-0.138075</td>\n",
              "      <td>-2.456067</td>\n",
              "    </tr>\n",
              "  </tbody>\n",
              "</table>\n",
              "</div>"
            ],
            "text/plain": [
              "Grade           4         5         6\n",
              "Goals                                \n",
              "Grades   1.508368 -2.945607  1.437238\n",
              "Popular -4.102510  3.083682  1.018828\n",
              "Sports   2.594142 -0.138075 -2.456067"
            ]
          },
          "metadata": {
            "tags": []
          },
          "execution_count": 23
        }
      ]
    },
    {
      "cell_type": "code",
      "metadata": {
        "id": "NeGGf8qp3fFT",
        "colab_type": "code",
        "outputId": "79016f3d-6e39-4ccc-e8cf-6817085a44c7",
        "colab": {
          "base_uri": "https://localhost:8080/",
          "height": 168
        }
      },
      "source": [
        "deviation_sq = deviation ** 2\n",
        "deviation_sq"
      ],
      "execution_count": 0,
      "outputs": [
        {
          "output_type": "execute_result",
          "data": {
            "text/html": [
              "<div>\n",
              "<style scoped>\n",
              "    .dataframe tbody tr th:only-of-type {\n",
              "        vertical-align: middle;\n",
              "    }\n",
              "\n",
              "    .dataframe tbody tr th {\n",
              "        vertical-align: top;\n",
              "    }\n",
              "\n",
              "    .dataframe thead th {\n",
              "        text-align: right;\n",
              "    }\n",
              "</style>\n",
              "<table border=\"1\" class=\"dataframe\">\n",
              "  <thead>\n",
              "    <tr style=\"text-align: right;\">\n",
              "      <th>Grade</th>\n",
              "      <th>4</th>\n",
              "      <th>5</th>\n",
              "      <th>6</th>\n",
              "    </tr>\n",
              "    <tr>\n",
              "      <th>Goals</th>\n",
              "      <th></th>\n",
              "      <th></th>\n",
              "      <th></th>\n",
              "    </tr>\n",
              "  </thead>\n",
              "  <tbody>\n",
              "    <tr>\n",
              "      <th>Grades</th>\n",
              "      <td>2.275175</td>\n",
              "      <td>8.676599</td>\n",
              "      <td>2.065654</td>\n",
              "    </tr>\n",
              "    <tr>\n",
              "      <th>Popular</th>\n",
              "      <td>16.830592</td>\n",
              "      <td>9.509095</td>\n",
              "      <td>1.038011</td>\n",
              "    </tr>\n",
              "    <tr>\n",
              "      <th>Sports</th>\n",
              "      <td>6.729574</td>\n",
              "      <td>0.019065</td>\n",
              "      <td>6.032265</td>\n",
              "    </tr>\n",
              "  </tbody>\n",
              "</table>\n",
              "</div>"
            ],
            "text/plain": [
              "Grade            4         5         6\n",
              "Goals                                 \n",
              "Grades    2.275175  8.676599  2.065654\n",
              "Popular  16.830592  9.509095  1.038011\n",
              "Sports    6.729574  0.019065  6.032265"
            ]
          },
          "metadata": {
            "tags": []
          },
          "execution_count": 25
        }
      ]
    },
    {
      "cell_type": "code",
      "metadata": {
        "id": "COwh66I36g_1",
        "colab_type": "code",
        "outputId": "e379e1d0-04e1-4188-9dbf-711ae40f64dc",
        "colab": {
          "base_uri": "https://localhost:8080/",
          "height": 168
        }
      },
      "source": [
        "fraction = deviation_sq/table_expected\n",
        "fraction"
      ],
      "execution_count": 0,
      "outputs": [
        {
          "output_type": "execute_result",
          "data": {
            "text/html": [
              "<div>\n",
              "<style scoped>\n",
              "    .dataframe tbody tr th:only-of-type {\n",
              "        vertical-align: middle;\n",
              "    }\n",
              "\n",
              "    .dataframe tbody tr th {\n",
              "        vertical-align: top;\n",
              "    }\n",
              "\n",
              "    .dataframe thead th {\n",
              "        text-align: right;\n",
              "    }\n",
              "</style>\n",
              "<table border=\"1\" class=\"dataframe\">\n",
              "  <thead>\n",
              "    <tr style=\"text-align: right;\">\n",
              "      <th>Grade</th>\n",
              "      <th>4</th>\n",
              "      <th>5</th>\n",
              "      <th>6</th>\n",
              "    </tr>\n",
              "    <tr>\n",
              "      <th>Goals</th>\n",
              "      <th></th>\n",
              "      <th></th>\n",
              "      <th></th>\n",
              "    </tr>\n",
              "  </thead>\n",
              "  <tbody>\n",
              "    <tr>\n",
              "      <th>Grades</th>\n",
              "      <td>0.037000</td>\n",
              "      <td>0.095404</td>\n",
              "      <td>0.021844</td>\n",
              "    </tr>\n",
              "    <tr>\n",
              "      <th>Popular</th>\n",
              "      <td>0.479470</td>\n",
              "      <td>0.183162</td>\n",
              "      <td>0.019229</td>\n",
              "    </tr>\n",
              "    <tr>\n",
              "      <th>Sports</th>\n",
              "      <td>0.300349</td>\n",
              "      <td>0.000575</td>\n",
              "      <td>0.175071</td>\n",
              "    </tr>\n",
              "  </tbody>\n",
              "</table>\n",
              "</div>"
            ],
            "text/plain": [
              "Grade           4         5         6\n",
              "Goals                                \n",
              "Grades   0.037000  0.095404  0.021844\n",
              "Popular  0.479470  0.183162  0.019229\n",
              "Sports   0.300349  0.000575  0.175071"
            ]
          },
          "metadata": {
            "tags": []
          },
          "execution_count": 27
        }
      ]
    },
    {
      "cell_type": "code",
      "metadata": {
        "id": "AwaXM5MX6g9X",
        "colab_type": "code",
        "outputId": "8ea9fa70-05b3-4a52-a132-6b46f5e44822",
        "colab": {
          "base_uri": "https://localhost:8080/",
          "height": 35
        }
      },
      "source": [
        "#Two ways to do the same thing\n",
        "#fraction.sum().sum()\n",
        "fraction.values.sum()"
      ],
      "execution_count": 0,
      "outputs": [
        {
          "output_type": "execute_result",
          "data": {
            "text/plain": [
              "1.312104515381599"
            ]
          },
          "metadata": {
            "tags": []
          },
          "execution_count": 30
        }
      ]
    },
    {
      "cell_type": "code",
      "metadata": {
        "id": "ODco41wp6g65",
        "colab_type": "code",
        "colab": {}
      },
      "source": [
        "#I always keep imports in their own cells in a repl environment\n",
        "from scipy.stats import chi2_contingency"
      ],
      "execution_count": 0,
      "outputs": []
    },
    {
      "cell_type": "code",
      "metadata": {
        "id": "vC9GV8ZV6g4Y",
        "colab_type": "code",
        "outputId": "ba0ceef5-ad41-405b-9d11-538b50daf791",
        "colab": {
          "base_uri": "https://localhost:8080/",
          "height": 126
        }
      },
      "source": [
        "chi2,p,df,expect = chi2_contingency(table_observed)\n",
        "print(f'chi2 stat:{chi2}')\n",
        "print(f'pvalue:{p}')\n",
        "print(f'Degrees of Freedom:{df}')\n",
        "print(f'expected freq:{expect}')\n"
      ],
      "execution_count": 0,
      "outputs": [
        {
          "output_type": "stream",
          "text": [
            "chi2 stat:1.3121045153815976\n",
            "pvalue:0.8593185000807877\n",
            "Degrees of Freedom:4\n",
            "expected freq:[[61.4916318  90.94560669 94.56276151]\n",
            " [35.10251046 51.91631799 53.98117155]\n",
            " [22.40585774 33.13807531 34.45606695]]\n"
          ],
          "name": "stdout"
        }
      ]
    },
    {
      "cell_type": "markdown",
      "metadata": {
        "id": "cUNzpdSp9p0_",
        "colab_type": "text"
      },
      "source": [
        "#Confidence Intervals"
      ]
    },
    {
      "cell_type": "code",
      "metadata": {
        "id": "UgqjcdXS8CEo",
        "colab_type": "code",
        "outputId": "1be708ab-7eed-4e29-8312-4f6e713f2a58",
        "colab": {
          "base_uri": "https://localhost:8080/",
          "height": 35
        }
      },
      "source": [
        "import scipy.stats as stats\n",
        "import numpy as np\n",
        "\n",
        "#confidence_interval = [lower_bound,upper_bound]\n",
        "\n",
        "coinflips = np.random.binomial(n=1,p=.51,size = 100000)\n",
        "print(coinflips[:20])\n"
      ],
      "execution_count": 0,
      "outputs": [
        {
          "output_type": "stream",
          "text": [
            "[1 0 1 0 1 1 1 1 0 0 0 0 1 0 1 1 0 1 0 1]\n"
          ],
          "name": "stdout"
        }
      ]
    },
    {
      "cell_type": "code",
      "metadata": {
        "id": "uhwsu_Sx8CCt",
        "colab_type": "code",
        "outputId": "962eec13-5f00-4b2f-8fca-3894e3263bae",
        "colab": {
          "base_uri": "https://localhost:8080/",
          "height": 35
        }
      },
      "source": [
        "stats.ttest_1samp(coinflips, 0.5)"
      ],
      "execution_count": 0,
      "outputs": [
        {
          "output_type": "execute_result",
          "data": {
            "text/plain": [
              "Ttest_1sampResult(statistic=6.7308173729737675, pvalue=1.6961832078511508e-11)"
            ]
          },
          "metadata": {
            "tags": []
          },
          "execution_count": 41
        }
      ]
    },
    {
      "cell_type": "code",
      "metadata": {
        "id": "Sa6G6KT-8CAT",
        "colab_type": "code",
        "colab": {}
      },
      "source": [
        ""
      ],
      "execution_count": 0,
      "outputs": []
    },
    {
      "cell_type": "code",
      "metadata": {
        "id": "ZlVSqDEU8B-D",
        "colab_type": "code",
        "colab": {}
      },
      "source": [
        ""
      ],
      "execution_count": 0,
      "outputs": []
    },
    {
      "cell_type": "code",
      "metadata": {
        "id": "Xo-4Dvi18B7p",
        "colab_type": "code",
        "colab": {}
      },
      "source": [
        ""
      ],
      "execution_count": 0,
      "outputs": []
    },
    {
      "cell_type": "markdown",
      "metadata": {
        "id": "11OzdxWTM7UR",
        "colab_type": "text"
      },
      "source": [
        "## Assignment - Build a confidence interval\n",
        "\n",
        "A confidence interval refers to a neighborhood around some point estimate, the size of which is determined by the desired p-value. For instance, we might say that 52% of Americans prefer tacos to burritos, with a 95% confidence interval of +/- 5%.\n",
        "\n",
        "52% (0.52) is the point estimate, and +/- 5% (the interval $[0.47, 0.57]$) is the confidence interval. \"95% confidence\" means a p-value $\\leq 1 - 0.95 = 0.05$.\n",
        "\n",
        "In this case, the confidence interval includes $0.5$ - which is the natural null hypothesis (that half of Americans prefer tacos and half burritos, thus there is no clear favorite). So in this case, we could use the confidence interval to report that we've failed to reject the null hypothesis.\n",
        "\n",
        "But providing the full analysis with a confidence interval, including a graphical representation of it, can be a helpful and powerful way to tell your story. Done well, it is also more intuitive to a layperson than simply saying \"fail to reject the null hypothesis\" - it shows that in fact the data does *not* give a single clear result (the point estimate) but a whole range of possibilities.\n",
        "\n",
        "How is a confidence interval built, and how should it be interpreted? It does *not* mean that 95% of the data lies in that interval - instead, the frequentist interpretation is \"if we were to repeat this experiment 100 times, we would expect the average result to lie in this interval ~95 times.\"\n",
        "\n",
        "For a 95% confidence interval and a normal(-ish) distribution, you can simply remember that +/-2 standard deviations contains 95% of the probability mass, and so the 95% confidence interval based on a given sample is centered at the mean (point estimate) and has a range of +/- 2 (or technically 1.96) standard deviations.\n",
        "\n",
        "Different distributions/assumptions (90% confidence, 99% confidence) will require different math, but the overall process and interpretation (with a frequentist approach) will be the same.\n",
        "\n",
        "Your assignment - using the data from the prior module ([congressional voting records](https://archive.ics.uci.edu/ml/datasets/Congressional+Voting+Records)):\n",
        "\n",
        "1. Generate and numerically represent a confidence interval\n",
        "2. Graphically (with a plot) represent the confidence interval\n",
        "3. Interpret the confidence interval - what does it tell you about the data and its distribution?\n",
        "\n",
        "Stretch goals:\n",
        "\n",
        "1. Write a summary of your findings, mixing prose and math/code/results. *Note* - yes, this is by definition a political topic. It is challenging but important to keep your writing voice *neutral* and stick to the facts of the data. Data science often involves considering controversial issues, so it's important to be sensitive about them (especially if you want to publish).\n",
        "2. Apply the techniques you learned today to your project data or other data of your choice, and write/discuss your findings here.\n",
        "3. Refactor your code so it is elegant, readable, and can be easily run for all issues."
      ]
    },
    {
      "cell_type": "code",
      "metadata": {
        "id": "Ckcr4A4FM7cs",
        "colab_type": "code",
        "colab": {}
      },
      "source": [
        "#Let's get our favorite libraries!\n",
        "import pandas as pd\n",
        "import numpy as np\n",
        "import seaborn as sns\n",
        "import scipy.stats as stats\n",
        "import matplotlib.pyplot as plt\n",
        "from scipy.stats import chi2_contingency"
      ],
      "execution_count": 0,
      "outputs": []
    },
    {
      "cell_type": "code",
      "metadata": {
        "id": "xEgO7mmF3smB",
        "colab_type": "code",
        "colab": {}
      },
      "source": [
        "np.set_printoptions(suppress = True)"
      ],
      "execution_count": 0,
      "outputs": []
    },
    {
      "cell_type": "code",
      "metadata": {
        "id": "UcjDbraUg7pY",
        "colab_type": "code",
        "colab": {}
      },
      "source": [
        "#And now let's grab our data\n",
        "#I already know now that we'll need to include a list of the column names,\n",
        "#so we'll do that, as well as handle ?'s, as we grab it\n",
        "column_names =['Class name', 'handicapped-infants', 'water-project-cost-sharing', \n",
        "            'adoption-of-the-budget-resolution', 'physician-fee-freeze', \n",
        "            'el-salvador-aid', 'religious-groups-in-schools',\n",
        "            'anti-satellite-test-ban', 'aid-to-nicaraguan-contras', 'mx-missile',\n",
        "            'immigration', 'synfuels-corporation-cutback', 'education-spending',\n",
        "            'superfund-right-to-sue', 'crime', 'duty-free-exports',\n",
        "            'export-administration-act-south-africa']\n",
        "voting_df = pd.read_csv('https://archive.ics.uci.edu/ml/machine-learning-databases/voting-records/house-votes-84.data',\n",
        "                        header = None, names = column_names, na_values='?')"
      ],
      "execution_count": 0,
      "outputs": []
    },
    {
      "cell_type": "code",
      "metadata": {
        "id": "QXMUmBvqhuRQ",
        "colab_type": "code",
        "outputId": "e3946342-bda1-430c-8156-c9bdcae82428",
        "colab": {
          "base_uri": "https://localhost:8080/",
          "height": 275
        }
      },
      "source": [
        "#Now we'll take a quick look\n",
        "voting_df.head()"
      ],
      "execution_count": 4,
      "outputs": [
        {
          "output_type": "execute_result",
          "data": {
            "text/html": [
              "<div>\n",
              "<style scoped>\n",
              "    .dataframe tbody tr th:only-of-type {\n",
              "        vertical-align: middle;\n",
              "    }\n",
              "\n",
              "    .dataframe tbody tr th {\n",
              "        vertical-align: top;\n",
              "    }\n",
              "\n",
              "    .dataframe thead th {\n",
              "        text-align: right;\n",
              "    }\n",
              "</style>\n",
              "<table border=\"1\" class=\"dataframe\">\n",
              "  <thead>\n",
              "    <tr style=\"text-align: right;\">\n",
              "      <th></th>\n",
              "      <th>Class name</th>\n",
              "      <th>handicapped-infants</th>\n",
              "      <th>water-project-cost-sharing</th>\n",
              "      <th>adoption-of-the-budget-resolution</th>\n",
              "      <th>physician-fee-freeze</th>\n",
              "      <th>el-salvador-aid</th>\n",
              "      <th>religious-groups-in-schools</th>\n",
              "      <th>anti-satellite-test-ban</th>\n",
              "      <th>aid-to-nicaraguan-contras</th>\n",
              "      <th>mx-missile</th>\n",
              "      <th>immigration</th>\n",
              "      <th>synfuels-corporation-cutback</th>\n",
              "      <th>education-spending</th>\n",
              "      <th>superfund-right-to-sue</th>\n",
              "      <th>crime</th>\n",
              "      <th>duty-free-exports</th>\n",
              "      <th>export-administration-act-south-africa</th>\n",
              "    </tr>\n",
              "  </thead>\n",
              "  <tbody>\n",
              "    <tr>\n",
              "      <th>0</th>\n",
              "      <td>republican</td>\n",
              "      <td>n</td>\n",
              "      <td>y</td>\n",
              "      <td>n</td>\n",
              "      <td>y</td>\n",
              "      <td>y</td>\n",
              "      <td>y</td>\n",
              "      <td>n</td>\n",
              "      <td>n</td>\n",
              "      <td>n</td>\n",
              "      <td>y</td>\n",
              "      <td>NaN</td>\n",
              "      <td>y</td>\n",
              "      <td>y</td>\n",
              "      <td>y</td>\n",
              "      <td>n</td>\n",
              "      <td>y</td>\n",
              "    </tr>\n",
              "    <tr>\n",
              "      <th>1</th>\n",
              "      <td>republican</td>\n",
              "      <td>n</td>\n",
              "      <td>y</td>\n",
              "      <td>n</td>\n",
              "      <td>y</td>\n",
              "      <td>y</td>\n",
              "      <td>y</td>\n",
              "      <td>n</td>\n",
              "      <td>n</td>\n",
              "      <td>n</td>\n",
              "      <td>n</td>\n",
              "      <td>n</td>\n",
              "      <td>y</td>\n",
              "      <td>y</td>\n",
              "      <td>y</td>\n",
              "      <td>n</td>\n",
              "      <td>NaN</td>\n",
              "    </tr>\n",
              "    <tr>\n",
              "      <th>2</th>\n",
              "      <td>democrat</td>\n",
              "      <td>NaN</td>\n",
              "      <td>y</td>\n",
              "      <td>y</td>\n",
              "      <td>NaN</td>\n",
              "      <td>y</td>\n",
              "      <td>y</td>\n",
              "      <td>n</td>\n",
              "      <td>n</td>\n",
              "      <td>n</td>\n",
              "      <td>n</td>\n",
              "      <td>y</td>\n",
              "      <td>n</td>\n",
              "      <td>y</td>\n",
              "      <td>y</td>\n",
              "      <td>n</td>\n",
              "      <td>n</td>\n",
              "    </tr>\n",
              "    <tr>\n",
              "      <th>3</th>\n",
              "      <td>democrat</td>\n",
              "      <td>n</td>\n",
              "      <td>y</td>\n",
              "      <td>y</td>\n",
              "      <td>n</td>\n",
              "      <td>NaN</td>\n",
              "      <td>y</td>\n",
              "      <td>n</td>\n",
              "      <td>n</td>\n",
              "      <td>n</td>\n",
              "      <td>n</td>\n",
              "      <td>y</td>\n",
              "      <td>n</td>\n",
              "      <td>y</td>\n",
              "      <td>n</td>\n",
              "      <td>n</td>\n",
              "      <td>y</td>\n",
              "    </tr>\n",
              "    <tr>\n",
              "      <th>4</th>\n",
              "      <td>democrat</td>\n",
              "      <td>y</td>\n",
              "      <td>y</td>\n",
              "      <td>y</td>\n",
              "      <td>n</td>\n",
              "      <td>y</td>\n",
              "      <td>y</td>\n",
              "      <td>n</td>\n",
              "      <td>n</td>\n",
              "      <td>n</td>\n",
              "      <td>n</td>\n",
              "      <td>y</td>\n",
              "      <td>NaN</td>\n",
              "      <td>y</td>\n",
              "      <td>y</td>\n",
              "      <td>y</td>\n",
              "      <td>y</td>\n",
              "    </tr>\n",
              "  </tbody>\n",
              "</table>\n",
              "</div>"
            ],
            "text/plain": [
              "   Class name  ... export-administration-act-south-africa\n",
              "0  republican  ...                                      y\n",
              "1  republican  ...                                    NaN\n",
              "2    democrat  ...                                      n\n",
              "3    democrat  ...                                      y\n",
              "4    democrat  ...                                      y\n",
              "\n",
              "[5 rows x 17 columns]"
            ]
          },
          "metadata": {
            "tags": []
          },
          "execution_count": 4
        }
      ]
    },
    {
      "cell_type": "code",
      "metadata": {
        "id": "6SoK_nJnh0ef",
        "colab_type": "code",
        "outputId": "ebf20def-ce80-4fbc-8009-04adb4949adc",
        "colab": {
          "base_uri": "https://localhost:8080/",
          "height": 275
        }
      },
      "source": [
        "#As before, we're seeing strings, let's format\n",
        "voting_df.replace(['y','n'],[0,1], inplace = True)\n",
        "voting_df.head()"
      ],
      "execution_count": 18,
      "outputs": [
        {
          "output_type": "execute_result",
          "data": {
            "text/html": [
              "<div>\n",
              "<style scoped>\n",
              "    .dataframe tbody tr th:only-of-type {\n",
              "        vertical-align: middle;\n",
              "    }\n",
              "\n",
              "    .dataframe tbody tr th {\n",
              "        vertical-align: top;\n",
              "    }\n",
              "\n",
              "    .dataframe thead th {\n",
              "        text-align: right;\n",
              "    }\n",
              "</style>\n",
              "<table border=\"1\" class=\"dataframe\">\n",
              "  <thead>\n",
              "    <tr style=\"text-align: right;\">\n",
              "      <th></th>\n",
              "      <th>Class name</th>\n",
              "      <th>handicapped-infants</th>\n",
              "      <th>water-project-cost-sharing</th>\n",
              "      <th>adoption-of-the-budget-resolution</th>\n",
              "      <th>physician-fee-freeze</th>\n",
              "      <th>el-salvador-aid</th>\n",
              "      <th>religious-groups-in-schools</th>\n",
              "      <th>anti-satellite-test-ban</th>\n",
              "      <th>aid-to-nicaraguan-contras</th>\n",
              "      <th>mx-missile</th>\n",
              "      <th>immigration</th>\n",
              "      <th>synfuels-corporation-cutback</th>\n",
              "      <th>education-spending</th>\n",
              "      <th>superfund-right-to-sue</th>\n",
              "      <th>crime</th>\n",
              "      <th>duty-free-exports</th>\n",
              "      <th>export-administration-act-south-africa</th>\n",
              "    </tr>\n",
              "  </thead>\n",
              "  <tbody>\n",
              "    <tr>\n",
              "      <th>0</th>\n",
              "      <td>republican</td>\n",
              "      <td>1.0</td>\n",
              "      <td>0.0</td>\n",
              "      <td>1.0</td>\n",
              "      <td>0.0</td>\n",
              "      <td>0.0</td>\n",
              "      <td>0.0</td>\n",
              "      <td>1.0</td>\n",
              "      <td>1.0</td>\n",
              "      <td>1.0</td>\n",
              "      <td>0.0</td>\n",
              "      <td>NaN</td>\n",
              "      <td>0.0</td>\n",
              "      <td>0.0</td>\n",
              "      <td>0.0</td>\n",
              "      <td>1.0</td>\n",
              "      <td>0.0</td>\n",
              "    </tr>\n",
              "    <tr>\n",
              "      <th>1</th>\n",
              "      <td>republican</td>\n",
              "      <td>1.0</td>\n",
              "      <td>0.0</td>\n",
              "      <td>1.0</td>\n",
              "      <td>0.0</td>\n",
              "      <td>0.0</td>\n",
              "      <td>0.0</td>\n",
              "      <td>1.0</td>\n",
              "      <td>1.0</td>\n",
              "      <td>1.0</td>\n",
              "      <td>1.0</td>\n",
              "      <td>1.0</td>\n",
              "      <td>0.0</td>\n",
              "      <td>0.0</td>\n",
              "      <td>0.0</td>\n",
              "      <td>1.0</td>\n",
              "      <td>NaN</td>\n",
              "    </tr>\n",
              "    <tr>\n",
              "      <th>2</th>\n",
              "      <td>democrat</td>\n",
              "      <td>NaN</td>\n",
              "      <td>0.0</td>\n",
              "      <td>0.0</td>\n",
              "      <td>NaN</td>\n",
              "      <td>0.0</td>\n",
              "      <td>0.0</td>\n",
              "      <td>1.0</td>\n",
              "      <td>1.0</td>\n",
              "      <td>1.0</td>\n",
              "      <td>1.0</td>\n",
              "      <td>0.0</td>\n",
              "      <td>1.0</td>\n",
              "      <td>0.0</td>\n",
              "      <td>0.0</td>\n",
              "      <td>1.0</td>\n",
              "      <td>1.0</td>\n",
              "    </tr>\n",
              "    <tr>\n",
              "      <th>3</th>\n",
              "      <td>democrat</td>\n",
              "      <td>1.0</td>\n",
              "      <td>0.0</td>\n",
              "      <td>0.0</td>\n",
              "      <td>1.0</td>\n",
              "      <td>NaN</td>\n",
              "      <td>0.0</td>\n",
              "      <td>1.0</td>\n",
              "      <td>1.0</td>\n",
              "      <td>1.0</td>\n",
              "      <td>1.0</td>\n",
              "      <td>0.0</td>\n",
              "      <td>1.0</td>\n",
              "      <td>0.0</td>\n",
              "      <td>1.0</td>\n",
              "      <td>1.0</td>\n",
              "      <td>0.0</td>\n",
              "    </tr>\n",
              "    <tr>\n",
              "      <th>4</th>\n",
              "      <td>democrat</td>\n",
              "      <td>0.0</td>\n",
              "      <td>0.0</td>\n",
              "      <td>0.0</td>\n",
              "      <td>1.0</td>\n",
              "      <td>0.0</td>\n",
              "      <td>0.0</td>\n",
              "      <td>1.0</td>\n",
              "      <td>1.0</td>\n",
              "      <td>1.0</td>\n",
              "      <td>1.0</td>\n",
              "      <td>0.0</td>\n",
              "      <td>NaN</td>\n",
              "      <td>0.0</td>\n",
              "      <td>0.0</td>\n",
              "      <td>0.0</td>\n",
              "      <td>0.0</td>\n",
              "    </tr>\n",
              "  </tbody>\n",
              "</table>\n",
              "</div>"
            ],
            "text/plain": [
              "   Class name  ...  export-administration-act-south-africa\n",
              "0  republican  ...                                     0.0\n",
              "1  republican  ...                                     NaN\n",
              "2    democrat  ...                                     1.0\n",
              "3    democrat  ...                                     0.0\n",
              "4    democrat  ...                                     0.0\n",
              "\n",
              "[5 rows x 17 columns]"
            ]
          },
          "metadata": {
            "tags": []
          },
          "execution_count": 18
        }
      ]
    },
    {
      "cell_type": "code",
      "metadata": {
        "id": "QgjV-X8HlMQG",
        "colab_type": "code",
        "outputId": "f36e4147-4d1a-418f-db91-e51238022dda",
        "colab": {
          "base_uri": "https://localhost:8080/",
          "height": 323
        }
      },
      "source": [
        "voting_df.dtypes"
      ],
      "execution_count": 19,
      "outputs": [
        {
          "output_type": "execute_result",
          "data": {
            "text/plain": [
              "Class name                                 object\n",
              "handicapped-infants                       float64\n",
              "water-project-cost-sharing                float64\n",
              "adoption-of-the-budget-resolution         float64\n",
              "physician-fee-freeze                      float64\n",
              "el-salvador-aid                           float64\n",
              "religious-groups-in-schools               float64\n",
              "anti-satellite-test-ban                   float64\n",
              "aid-to-nicaraguan-contras                 float64\n",
              "mx-missile                                float64\n",
              "immigration                               float64\n",
              "synfuels-corporation-cutback              float64\n",
              "education-spending                        float64\n",
              "superfund-right-to-sue                    float64\n",
              "crime                                     float64\n",
              "duty-free-exports                         float64\n",
              "export-administration-act-south-africa    float64\n",
              "dtype: object"
            ]
          },
          "metadata": {
            "tags": []
          },
          "execution_count": 19
        }
      ]
    },
    {
      "cell_type": "code",
      "metadata": {
        "id": "hCPAjKWysQnc",
        "colab_type": "code",
        "colab": {}
      },
      "source": [
        "imm_r = voting_df[voting_df['Class name']=='republican']['immigration']\n",
        "imm_d = voting_df[voting_df['Class name']=='democrat']['immigration']"
      ],
      "execution_count": 0,
      "outputs": []
    },
    {
      "cell_type": "code",
      "metadata": {
        "id": "euagECq41vIt",
        "colab_type": "code",
        "outputId": "8a1b012d-a3fe-4f7e-fd61-3f4d5cb74daf",
        "colab": {
          "base_uri": "https://localhost:8080/",
          "height": 34
        }
      },
      "source": [
        "_, pvalue = stats.ttest_ind(imm_r,imm_d, nan_policy = 'omit')\n",
        "print(pvalue)"
      ],
      "execution_count": 21,
      "outputs": [
        {
          "output_type": "stream",
          "text": [
            "0.08330248490425066\n"
          ],
          "name": "stdout"
        }
      ]
    },
    {
      "cell_type": "code",
      "metadata": {
        "id": "kF9zVCl45TlB",
        "colab_type": "code",
        "outputId": "7125e9da-7b7d-433d-f1be-86c9fcdf20f1",
        "colab": {
          "base_uri": "https://localhost:8080/",
          "height": 345
        }
      },
      "source": [
        "voting_df.std()"
      ],
      "execution_count": 0,
      "outputs": [
        {
          "output_type": "execute_result",
          "data": {
            "text/plain": [
              "Class name                                0.487440\n",
              "handicapped-infants                       0.497222\n",
              "water-project-cost-sharing                0.500632\n",
              "adoption-of-the-budget-resolution         0.491140\n",
              "physician-fee-freeze                      0.493721\n",
              "el-salvador-aid                           0.500574\n",
              "religious-groups-in-schools               0.480124\n",
              "anti-satellite-test-ban                   0.495985\n",
              "aid-to-nicaraguan-contras                 0.494750\n",
              "mx-missile                                0.500605\n",
              "immigration                               0.500563\n",
              "synfuels-corporation-cutback              0.481252\n",
              "education-spending                        0.494690\n",
              "superfund-right-to-sue                    0.500516\n",
              "crime                                     0.491806\n",
              "duty-free-exports                         0.495327\n",
              "export-administration-act-south-africa    0.390752\n",
              "dtype: float64"
            ]
          },
          "metadata": {
            "tags": []
          },
          "execution_count": 65
        }
      ]
    },
    {
      "cell_type": "code",
      "metadata": {
        "id": "Ib9--32GkobI",
        "colab_type": "code",
        "colab": {}
      },
      "source": [
        "imm_mean = np.mean(voting_df['immigration'])\n",
        "U_range = 1.96\n",
        "se_imm = stats.sem(voting_df['immigration'], nan_policy = 'omit')"
      ],
      "execution_count": 0,
      "outputs": []
    },
    {
      "cell_type": "code",
      "metadata": {
        "id": "TgcjkBBO55nD",
        "colab_type": "code",
        "colab": {
          "base_uri": "https://localhost:8080/",
          "height": 34
        },
        "outputId": "d2f1a625-94d6-4166-dff5-543e77775aeb"
      },
      "source": [
        "np.mean(voting_df['immigration'])"
      ],
      "execution_count": 24,
      "outputs": [
        {
          "output_type": "execute_result",
          "data": {
            "text/plain": [
              "0.4953271028037383"
            ]
          },
          "metadata": {
            "tags": []
          },
          "execution_count": 24
        }
      ]
    },
    {
      "cell_type": "code",
      "metadata": {
        "id": "JVa8ijDL5h81",
        "colab_type": "code",
        "outputId": "d4884e21-d159-4dab-c42e-be84c49c0ebd",
        "colab": {
          "base_uri": "https://localhost:8080/",
          "height": 34
        }
      },
      "source": [
        "#Calculating our upper and lower limit\n",
        "UL = imm_mean + U_range*se_imm\n",
        "LL = imm_mean - U_range*se_imm\n",
        "print(UL,LL)"
      ],
      "execution_count": 26,
      "outputs": [
        {
          "output_type": "stream",
          "text": [
            "0.5427505556066324 0.4479036500008442\n"
          ],
          "name": "stdout"
        }
      ]
    },
    {
      "cell_type": "code",
      "metadata": {
        "id": "O-fz-Gh58HL_",
        "colab_type": "code",
        "colab": {}
      },
      "source": [
        "def plot_confidence(df, std_norm_table):\n",
        "  #Insure data is formatted in a way that will allow the mean function to be \n",
        "  #called on all subsequent columns\n",
        "  labels = df.columns\n",
        "  means = []\n",
        "  confidence = []\n",
        "  columns = list(df)\n",
        "  for i in columns:\n",
        "    means.append(np.mean(df[i]))\n",
        "    \n",
        "  for i in columns:\n",
        "    percentage = voting_df[i].value_counts()/voting_df.shape\n",
        "    std_error = stats.sem(voting_df[i], nan_policy='omit')\n",
        "    upper_lower = percentage[1] + (1.96*std_error),percentage[1] - (1.96*std_error)\n",
        "    confidence.append(upper_lower)\n",
        "    \n",
        "  y_r = [means[i] - confidence[i][1] for i in range(len(confidence))]\n",
        "  plt.bar(range(len(means)), means, yerr=y_r, alpha=0.2, align='center')\n",
        "  plt.axhline(0.5)\n",
        "\n",
        "  plt.xticks([0, 1, 2, 3, 4, 5, 6, 7, 8, 9, 10, 11, 12, 13, 14, 15], labels, rotation='vertical')\n",
        "\n",
        "  plt.suptitle(\"Odds of a 'Yes' Vote\")\n",
        "  plt.title('95% Confidence')\n",
        "  plt.ylabel('Percentage')\n",
        "  plt.xlabel('The Issues')\n",
        "\n",
        "  plt.show();\n",
        "    \n",
        "    "
      ],
      "execution_count": 0,
      "outputs": []
    },
    {
      "cell_type": "code",
      "metadata": {
        "id": "SM90iEwuEhkR",
        "colab_type": "code",
        "colab": {
          "base_uri": "https://localhost:8080/",
          "height": 489
        },
        "outputId": "e453f78a-3a48-4995-b17e-3b0f6aadb3e1"
      },
      "source": [
        "plot_confidence(voting_df_no_class_name, 1.96)"
      ],
      "execution_count": 64,
      "outputs": [
        {
          "output_type": "display_data",
          "data": {
            "image/png": "[encoded data removed]",
            "text/plain": [
              "<Figure size 432x288 with 1 Axes>"
            ]
          },
          "metadata": {
            "tags": []
          }
        }
      ]
    },
    {
      "cell_type": "code",
      "metadata": {
        "id": "NPClsyue-2bK",
        "colab_type": "code",
        "colab": {
          "base_uri": "https://localhost:8080/",
          "height": 275
        },
        "outputId": "4aff97ee-e2b2-4a57-f838-c5140511e653"
      },
      "source": [
        "voting_df_no_class_name = voting_df.drop('Class name', axis = 1)\n",
        "voting_df_no_class_name.head()"
      ],
      "execution_count": 40,
      "outputs": [
        {
          "output_type": "execute_result",
          "data": {
            "text/html": [
              "<div>\n",
              "<style scoped>\n",
              "    .dataframe tbody tr th:only-of-type {\n",
              "        vertical-align: middle;\n",
              "    }\n",
              "\n",
              "    .dataframe tbody tr th {\n",
              "        vertical-align: top;\n",
              "    }\n",
              "\n",
              "    .dataframe thead th {\n",
              "        text-align: right;\n",
              "    }\n",
              "</style>\n",
              "<table border=\"1\" class=\"dataframe\">\n",
              "  <thead>\n",
              "    <tr style=\"text-align: right;\">\n",
              "      <th></th>\n",
              "      <th>handicapped-infants</th>\n",
              "      <th>water-project-cost-sharing</th>\n",
              "      <th>adoption-of-the-budget-resolution</th>\n",
              "      <th>physician-fee-freeze</th>\n",
              "      <th>el-salvador-aid</th>\n",
              "      <th>religious-groups-in-schools</th>\n",
              "      <th>anti-satellite-test-ban</th>\n",
              "      <th>aid-to-nicaraguan-contras</th>\n",
              "      <th>mx-missile</th>\n",
              "      <th>immigration</th>\n",
              "      <th>synfuels-corporation-cutback</th>\n",
              "      <th>education-spending</th>\n",
              "      <th>superfund-right-to-sue</th>\n",
              "      <th>crime</th>\n",
              "      <th>duty-free-exports</th>\n",
              "      <th>export-administration-act-south-africa</th>\n",
              "    </tr>\n",
              "  </thead>\n",
              "  <tbody>\n",
              "    <tr>\n",
              "      <th>0</th>\n",
              "      <td>1.0</td>\n",
              "      <td>0.0</td>\n",
              "      <td>1.0</td>\n",
              "      <td>0.0</td>\n",
              "      <td>0.0</td>\n",
              "      <td>0.0</td>\n",
              "      <td>1.0</td>\n",
              "      <td>1.0</td>\n",
              "      <td>1.0</td>\n",
              "      <td>0.0</td>\n",
              "      <td>NaN</td>\n",
              "      <td>0.0</td>\n",
              "      <td>0.0</td>\n",
              "      <td>0.0</td>\n",
              "      <td>1.0</td>\n",
              "      <td>0.0</td>\n",
              "    </tr>\n",
              "    <tr>\n",
              "      <th>1</th>\n",
              "      <td>1.0</td>\n",
              "      <td>0.0</td>\n",
              "      <td>1.0</td>\n",
              "      <td>0.0</td>\n",
              "      <td>0.0</td>\n",
              "      <td>0.0</td>\n",
              "      <td>1.0</td>\n",
              "      <td>1.0</td>\n",
              "      <td>1.0</td>\n",
              "      <td>1.0</td>\n",
              "      <td>1.0</td>\n",
              "      <td>0.0</td>\n",
              "      <td>0.0</td>\n",
              "      <td>0.0</td>\n",
              "      <td>1.0</td>\n",
              "      <td>NaN</td>\n",
              "    </tr>\n",
              "    <tr>\n",
              "      <th>2</th>\n",
              "      <td>NaN</td>\n",
              "      <td>0.0</td>\n",
              "      <td>0.0</td>\n",
              "      <td>NaN</td>\n",
              "      <td>0.0</td>\n",
              "      <td>0.0</td>\n",
              "      <td>1.0</td>\n",
              "      <td>1.0</td>\n",
              "      <td>1.0</td>\n",
              "      <td>1.0</td>\n",
              "      <td>0.0</td>\n",
              "      <td>1.0</td>\n",
              "      <td>0.0</td>\n",
              "      <td>0.0</td>\n",
              "      <td>1.0</td>\n",
              "      <td>1.0</td>\n",
              "    </tr>\n",
              "    <tr>\n",
              "      <th>3</th>\n",
              "      <td>1.0</td>\n",
              "      <td>0.0</td>\n",
              "      <td>0.0</td>\n",
              "      <td>1.0</td>\n",
              "      <td>NaN</td>\n",
              "      <td>0.0</td>\n",
              "      <td>1.0</td>\n",
              "      <td>1.0</td>\n",
              "      <td>1.0</td>\n",
              "      <td>1.0</td>\n",
              "      <td>0.0</td>\n",
              "      <td>1.0</td>\n",
              "      <td>0.0</td>\n",
              "      <td>1.0</td>\n",
              "      <td>1.0</td>\n",
              "      <td>0.0</td>\n",
              "    </tr>\n",
              "    <tr>\n",
              "      <th>4</th>\n",
              "      <td>0.0</td>\n",
              "      <td>0.0</td>\n",
              "      <td>0.0</td>\n",
              "      <td>1.0</td>\n",
              "      <td>0.0</td>\n",
              "      <td>0.0</td>\n",
              "      <td>1.0</td>\n",
              "      <td>1.0</td>\n",
              "      <td>1.0</td>\n",
              "      <td>1.0</td>\n",
              "      <td>0.0</td>\n",
              "      <td>NaN</td>\n",
              "      <td>0.0</td>\n",
              "      <td>0.0</td>\n",
              "      <td>0.0</td>\n",
              "      <td>0.0</td>\n",
              "    </tr>\n",
              "  </tbody>\n",
              "</table>\n",
              "</div>"
            ],
            "text/plain": [
              "   handicapped-infants  ...  export-administration-act-south-africa\n",
              "0                  1.0  ...                                     0.0\n",
              "1                  1.0  ...                                     NaN\n",
              "2                  NaN  ...                                     1.0\n",
              "3                  1.0  ...                                     0.0\n",
              "4                  0.0  ...                                     0.0\n",
              "\n",
              "[5 rows x 16 columns]"
            ]
          },
          "metadata": {
            "tags": []
          },
          "execution_count": 40
        }
      ]
    },
    {
      "cell_type": "code",
      "metadata": {
        "id": "XAMaJgKd8HKC",
        "colab_type": "code",
        "colab": {
          "base_uri": "https://localhost:8080/",
          "height": 153
        },
        "outputId": "2357bbe0-ea51-4cfe-9cd5-35e601eb7d78"
      },
      "source": [
        "voting_df.columns"
      ],
      "execution_count": 28,
      "outputs": [
        {
          "output_type": "execute_result",
          "data": {
            "text/plain": [
              "Index(['Class name', 'handicapped-infants', 'water-project-cost-sharing',\n",
              "       'adoption-of-the-budget-resolution', 'physician-fee-freeze',\n",
              "       'el-salvador-aid', 'religious-groups-in-schools',\n",
              "       'anti-satellite-test-ban', 'aid-to-nicaraguan-contras', 'mx-missile',\n",
              "       'immigration', 'synfuels-corporation-cutback', 'education-spending',\n",
              "       'superfund-right-to-sue', 'crime', 'duty-free-exports',\n",
              "       'export-administration-act-south-africa'],\n",
              "      dtype='object')"
            ]
          },
          "metadata": {
            "tags": []
          },
          "execution_count": 28
        }
      ]
    },
    {
      "cell_type": "code",
      "metadata": {
        "id": "5b37WvK38HHp",
        "colab_type": "code",
        "colab": {
          "base_uri": "https://localhost:8080/",
          "height": 289
        },
        "outputId": "fb2880ec-89ec-4560-b42f-5b271bdfa171"
      },
      "source": [
        "columns = list(voting_df_no_class_name)\n",
        "columns"
      ],
      "execution_count": 41,
      "outputs": [
        {
          "output_type": "execute_result",
          "data": {
            "text/plain": [
              "['handicapped-infants',\n",
              " 'water-project-cost-sharing',\n",
              " 'adoption-of-the-budget-resolution',\n",
              " 'physician-fee-freeze',\n",
              " 'el-salvador-aid',\n",
              " 'religious-groups-in-schools',\n",
              " 'anti-satellite-test-ban',\n",
              " 'aid-to-nicaraguan-contras',\n",
              " 'mx-missile',\n",
              " 'immigration',\n",
              " 'synfuels-corporation-cutback',\n",
              " 'education-spending',\n",
              " 'superfund-right-to-sue',\n",
              " 'crime',\n",
              " 'duty-free-exports',\n",
              " 'export-administration-act-south-africa']"
            ]
          },
          "metadata": {
            "tags": []
          },
          "execution_count": 41
        }
      ]
    },
    {
      "cell_type": "code",
      "metadata": {
        "id": "LRjIxxoRBttT",
        "colab_type": "code",
        "colab": {
          "base_uri": "https://localhost:8080/",
          "height": 289
        },
        "outputId": "4d5a91e2-7119-4f39-8126-467eb608101b"
      },
      "source": [
        "confidence_int = []\n",
        "for i in columns:\n",
        "  percentage = voting_df[i].value_counts()/voting_df.shape\n",
        "  std_error = stats.sem(voting_df[i], nan_policy='omit')\n",
        "  upper_lower = percentage[1] + (1.96*std_error),percentage[1] - (1.96*std_error)\n",
        "  confidence_int.append(upper_lower)\n",
        "confidence_int"
      ],
      "execution_count": 59,
      "outputs": [
        {
          "output_type": "execute_result",
          "data": {
            "text/plain": [
              "[(0.5899132335518289, 0.49514423771253907),\n",
              " (11.343996834966477, 11.244238459151171),\n",
              " (10.105573177588944, 10.012073881234585),\n",
              " (0.6148114692783037, 0.5208207146297422),\n",
              " (12.283168079281738, 12.187420156012378),\n",
              " (8.986877530984057, 8.895475410192415),\n",
              " (10.753261143993216, 10.658503561889136),\n",
              " (10.517905262749832, 10.423271207838404),\n",
              " (12.165928051923743, 12.069366065723315),\n",
              " (12.518011688097012, 12.423164782491224),\n",
              " (0.6532549366657648, 0.560538166782511),\n",
              " (0.5838711730931091, 0.4873931947229829),\n",
              " (11.871978067595272, 11.775080755934141),\n",
              " (10.047147868459325, 9.952852131540675),\n",
              " (0.583755021737101, 0.48750934607899105),\n",
              " (3.6891550427509125, 3.604962604307911)]"
            ]
          },
          "metadata": {
            "tags": []
          },
          "execution_count": 59
        }
      ]
    },
    {
      "cell_type": "code",
      "metadata": {
        "id": "Au9tsnvuC1Z3",
        "colab_type": "code",
        "colab": {
          "base_uri": "https://localhost:8080/",
          "height": 68
        },
        "outputId": "ac3cb3d3-5fb0-4cc1-f2fc-fc6a524cb1fb"
      },
      "source": [
        "voting_df['immigration'].value_counts()"
      ],
      "execution_count": 54,
      "outputs": [
        {
          "output_type": "execute_result",
          "data": {
            "text/plain": [
              "0.0    216\n",
              "1.0    212\n",
              "Name: immigration, dtype: int64"
            ]
          },
          "metadata": {
            "tags": []
          },
          "execution_count": 54
        }
      ]
    },
    {
      "cell_type": "code",
      "metadata": {
        "id": "NCSC27dP-Hci",
        "colab_type": "code",
        "colab": {
          "base_uri": "https://localhost:8080/",
          "height": 289
        },
        "outputId": "df1c5fec-fe75-44e7-e8e3-92cf5d97068f"
      },
      "source": [
        "means=[]\n",
        "for i in columns:\n",
        "  means.append(np.mean(voting_df[i]))\n",
        "means"
      ],
      "execution_count": 42,
      "outputs": [
        {
          "output_type": "execute_result",
          "data": {
            "text/plain": [
              "[0.557919621749409,\n",
              " 0.49612403100775193,\n",
              " 0.4033018867924528,\n",
              " 0.5825471698113207,\n",
              " 0.49523809523809526,\n",
              " 0.3584905660377358,\n",
              " 0.4323040380047506,\n",
              " 0.4238095238095238,\n",
              " 0.49878934624697335,\n",
              " 0.4953271028037383,\n",
              " 0.6376811594202898,\n",
              " 0.5767326732673267,\n",
              " 0.4902439024390244,\n",
              " 0.40669856459330145,\n",
              " 0.5724815724815725,\n",
              " 0.18731117824773413]"
            ]
          },
          "metadata": {
            "tags": []
          },
          "execution_count": 42
        }
      ]
    },
    {
      "cell_type": "code",
      "metadata": {
        "id": "iNPw4O4a7jOy",
        "colab_type": "code",
        "colab": {
          "base_uri": "https://localhost:8080/",
          "height": 436
        },
        "outputId": "5151f7d0-d072-4b84-8784-580f81f52193"
      },
      "source": [
        "import matplotlib.pyplot as plt\n",
        "\n",
        "labels = [\"Handicapped Infants\",\n",
        "         \"Water Cost Share\",\n",
        "         \"Adoption Budget\",\n",
        "         \"Physician Fee Freeze\",\n",
        "         \"Aid to El Salvador\",\n",
        "         \"Religious Groups in Schools\",\n",
        "         \"Anti-Satellite Ban\",\n",
        "         \"Nicaraguan Aid\",\n",
        "         \"Missile\",\n",
        "         \"Immigration\",\n",
        "         \"Fuel Corporation Cutbacks\",\n",
        "         \"Education Spending\",\n",
        "         \"Superfund Lawsuit\",\n",
        "         \"Crime\",\n",
        "         \"Exports\"]\n",
        "\n",
        "means = [0.442396, 0.486175, 0.587558, 0.423963, 0.504608, 0.638249, 0.571429,\n",
        "        0.573733, 0.495392, .5, 0.357143, 0.407834, 0.509217, 0.582949, .426267]\n",
        "\n",
        "confidence = [(0.48912427, 0.39566773), (0.48912459, 0.39566804), (0.63387261, 0.54124339),\n",
        "            (0.47045737, 0.37746863), (0.55164751, 0.45756849), (0.68345657, 0.59304143),\n",
        "            (0.61798801, 0.52486999), (0.62026021, 0.52720579), (0.54243151, 0.44835249),\n",
        "            (0.54704151, 0.45295849), (0.40222358, 0.31206242), (0.4540694, 0.3615986),\n",
        "            (0.55625051, 0.46218349), (0.62933865, 0.53655935), (0.47279421, 0.37973979)]\n",
        "\n",
        "y_r = [means[i] - confidence[i][1] for i in range(len(confidence))]\n",
        "plt.bar(range(len(means)), means, yerr=y_r, alpha=0.2, align='center')\n",
        "plt.axhline(0.5)\n",
        "\n",
        "plt.xticks([0, 1, 2, 3, 4, 5, 6, 7, 8, 9, 10, 11, 12, 13, 14], labels, rotation='vertical')\n",
        "\n",
        "plt.suptitle(\"Odds of a 'Yes' Vote\")\n",
        "plt.title('95% Confidence')\n",
        "plt.ylabel('Percentage')\n",
        "plt.xlabel('The Issues')\n",
        "\n",
        "plt.show();"
      ],
      "execution_count": 27,
      "outputs": [
        {
          "output_type": "display_data",
          "data": {
            "image/png": "[encoded data removed]",
            "text/plain": [
              "<Figure size 432x288 with 1 Axes>"
            ]
          },
          "metadata": {
            "tags": []
          }
        }
      ]
    },
    {
      "cell_type": "markdown",
      "metadata": {
        "id": "nyJ3ySr7R2k9",
        "colab_type": "text"
      },
      "source": [
        "## Resources\n",
        "\n",
        "- [Interactive visualize the Chi-Squared test](https://homepage.divms.uiowa.edu/~mbognar/applets/chisq.html)\n",
        "- [Calculation of Chi-Squared test statistic](https://en.wikipedia.org/wiki/Pearson%27s_chi-squared_test)\n",
        "- [Visualization of a confidence interval generated by R code](https://commons.wikimedia.org/wiki/File:Confidence-interval.svg)\n",
        "- [Expected value of a squared standard normal](https://math.stackexchange.com/questions/264061/expected-value-calculation-for-squared-normal-distribution) (it's 1 - which is why the expected value of a Chi-Squared with $n$ degrees of freedom is $n$, as it's the sum of $n$ squared standard normals)"
      ]
    },
    {
      "cell_type": "markdown",
      "metadata": {
        "id": "FJtyXa-pwjHD",
        "colab_type": "text"
      },
      "source": [
        "#Notes for later\n"
      ]
    },
    {
      "cell_type": "markdown",
      "metadata": {
        "id": "jEwnwvExwlps",
        "colab_type": "text"
      },
      "source": [
        "When determining upper and lower limits, the standard normal table is how we determine what to multiply by the standard deviation. We do that by determining what we want our confidence interval to be, then finding the upper value on the table.\n"
      ]
    }
  ]
}